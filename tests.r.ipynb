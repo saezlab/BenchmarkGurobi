{
 "cells": [
  {
   "cell_type": "code",
   "execution_count": null,
   "id": "economic-composite",
   "metadata": {},
   "outputs": [],
   "source": [
    "library(dplyr)\n",
    "library(OmnipathR)\n",
    "library(reshape2)\n",
    "library(igraph)"
   ]
  },
  {
   "cell_type": "markdown",
   "id": "numerous-century",
   "metadata": {},
   "source": [
    "# Plotting networks"
   ]
  },
  {
   "cell_type": "code",
   "execution_count": null,
   "id": "driving-allocation",
   "metadata": {},
   "outputs": [],
   "source": [
    "g <- igraph::static.power.law.game(20, 100, 2, 2)\n",
    "plot(g)"
   ]
  },
  {
   "cell_type": "code",
   "execution_count": null,
   "id": "conventional-arctic",
   "metadata": {},
   "outputs": [],
   "source": [
    "g <- igraph::erdos.renyi.game(20, 20, \"gnm\", directed=TRUE)\n",
    "plot(g)"
   ]
  },
  {
   "cell_type": "markdown",
   "id": "persistent-drawing",
   "metadata": {},
   "source": [
    "# Omnipath"
   ]
  },
  {
   "cell_type": "code",
   "execution_count": null,
   "id": "hundred-drove",
   "metadata": {},
   "outputs": [],
   "source": [
    "omnipath = import_omnipath_interactions(from_cache_file = NULL,\n",
    "                                        filter_databases = get_interaction_resources(), \n",
    "                                        select_organism = 9606)\n",
    "omnipath"
   ]
  },
  {
   "cell_type": "code",
   "execution_count": null,
   "id": "indirect-establishment",
   "metadata": {},
   "outputs": [],
   "source": [
    "filter_by_references <- 0\n",
    "\n",
    "omnipath_pkn = omnipath %>% dplyr::filter( is_directed == 1 ) %>% \n",
    "dplyr::mutate_at( c(\"n_references\"), ~as.numeric(as.character(.))) %>%\n",
    "dplyr::filter( n_references >= filter_by_references ) %>%\n",
    "dplyr::select( \"source_genesymbol\", \"target_genesymbol\", \"consensus_stimulation\", \"consensus_inhibition\" ) %>%\n",
    "dplyr::mutate_at( c(\"consensus_stimulation\", \"consensus_inhibition\"), ~as.numeric(as.character(.)))\n",
    "\n",
    "omnipath_pkn_inh_upd = omnipath_pkn %>% melt() %>% \n",
    "filter(variable == \"consensus_inhibition\" & value == \"1\") %>% \n",
    "mutate(value = -1)\n",
    "  \n",
    "omnipath_pkn = omnipath_pkn %>% melt() %>% \n",
    "filter( variable == \"consensus_stimulation\" & value != \"0\" ) %>% \n",
    "rbind(omnipath_pkn_inh_upd) \n",
    "\n",
    "omnipath_pkn = omnipath_pkn %>% dplyr::select(\"source_genesymbol\", \"target_genesymbol\", \"value\") %>% \n",
    "                              relocate(\"target_genesymbol\", \"value\")\n",
    "colnames(omnipath_pkn) = c(\"source\", \"effect\", \"target\") \n",
    "omnipath_pkn"
   ]
  },
  {
   "cell_type": "code",
   "execution_count": null,
   "id": "veterinary-promotion",
   "metadata": {},
   "outputs": [],
   "source": [
    "generateTFList <- function (df = df, top = 50, access_idx = 1) \n",
    "{\n",
    "  if (top == \"all\") {\n",
    "    top <- nrow(df)\n",
    "  }\n",
    "  if (top > nrow(df)) {\n",
    "    warning(\"Number of to TF's inserted exceeds the number of actual TF's in the\\n            \n",
    "            data frame. All the TF's will be considered.\")\n",
    "    top <- nrow(df)\n",
    "  }\n",
    "  ctrl <- intersect(x = access_idx, y = 1:ncol(df))\n",
    "  if (length(ctrl) == 0) {\n",
    "    stop(\"The indeces you inserted do not correspond to \\n              \n",
    "         the number of columns/samples\")\n",
    "  }\n",
    "  returnList <- list()\n",
    "  for (ii in 1:length(ctrl)) {\n",
    "    tfThresh <- sort(x = abs(df[, ctrl[ii]]), decreasing = TRUE)[top]\n",
    "    temp <- which(abs(df[, ctrl[ii]]) >= tfThresh)\n",
    "    currDF <- matrix(data = , nrow = 1, ncol = top)\n",
    "    colnames(currDF) <- rownames(df)[temp[1:top]]\n",
    "    currDF[1, ] <- df[temp[1:top], ctrl[ii]]\n",
    "    currDF <- as.data.frame(currDF)\n",
    "    returnList[[length(returnList) + 1]] <- currDF\n",
    "  }\n",
    "  names(returnList) <- colnames(df)[ctrl]\n",
    "  return(returnList)\n",
    "}"
   ]
  },
  {
   "cell_type": "code",
   "execution_count": null,
   "id": "mexican-semester",
   "metadata": {},
   "outputs": [],
   "source": [
    "measurements = read.csv(\"Input/measurments.csv\")\n",
    "tf_activities_carnival <- data.frame(measurements, stringsAsFactors = F)\n",
    "rownames(tf_activities_carnival) <- measurements$TF\n",
    "tf_activities_carnival$TF <- NULL\n",
    "tfList = generateTFList(tf_activities_carnival, top=50, access_idx = 1)\n",
    "tfList"
   ]
  },
  {
   "cell_type": "code",
   "execution_count": null,
   "id": "editorial-answer",
   "metadata": {},
   "outputs": [],
   "source": [
    "runShuffler <- function(shufflingPercentage = seq(2, 50, 2), priorKnowledgeNetwork) {\n",
    "  \n",
    "  shuffledPkn <- lapply(shufflingPercentage, function(x, priorKnowledgeNetwork) {\n",
    "    \n",
    "    numberShuffledEdges <- x * length(priorKnowledgeNetwork[, 1]) / 100\n",
    "    \n",
    "    if (numberShuffledEdges == 0) {\n",
    "      warning(\"0 shuffling percentage provided or number of edges to be shuffle is calculated to be 0. Returning an unchanged prior knowledge network.\")\n",
    "      return(priorKnowledgeNetwork)\n",
    "    } else {\n",
    "      #if rounded value is below 0, shuffle at least 2 edges\n",
    "      numberShuffledEdges <- ifelse(round(numberShuffledEdges) > 0, round(numberShuffledEdges), 2) \n",
    "      \n",
    "      # shuffle prior knowledge network in random order \n",
    "      priorKnowledgeNetwork <- priorKnowledgeNetwork[ sample(1:length(priorKnowledgeNetwork[, 1]), \n",
    "                                                             size = length(priorKnowledgeNetwork[, 1]), \n",
    "                                                             replace = F), ]\n",
    "      \n",
    "      edgesShuffledPkn <- priorKnowledgeNetwork\n",
    "      # get randomly numberShuffledEdges numbers\n",
    "      randomSampler <- sample(1:numberShuffledEdges, \n",
    "                              size = numberShuffledEdges, \n",
    "                              replace = F)\n",
    "      \n",
    "      edgesToRewire <- edgesShuffledPkn[ randomSampler, 1 ]\n",
    "      # rewire edges\n",
    "      edgesShuffledPkn[ 1:numberShuffledEdges,  1 ] <- edgesToRewire\n",
    "      \n",
    "      return(edgesShuffledPkn)  \n",
    "    }\n",
    "    \n",
    "  }, priorKnowledgeNetwork=priorKnowledgeNetwork)\n",
    " \n",
    "  return(shuffledPkn) \n",
    "}\n",
    "\n",
    "callCarnivalWithShuffledPkn <- function( measurements, \n",
    "                                         perturbations, \n",
    "                                         priorKnowledgeNetworksShuffled, \n",
    "                                         cplexPath,\n",
    "                                         outputFolder) {\n",
    "  \n",
    "  \n",
    "  j <- 0\n",
    "  for (i in priorKnowledgeNetworksShuffled) {\n",
    "    \n",
    "    # Identifying starting nodes \n",
    "    # N.B.Taken from transcript tutorial, simplest way to provide perturbations\n",
    "    diffNodes = base::setdiff(i$source, i$target)\n",
    "    initiators = base::data.frame(base::matrix(data = NaN, nrow = 1, ncol = length(iniMTX)), stringsAsFactors = F)\n",
    "    colnames(initiators) = diffNodes\n",
    "    print(initiators)\n",
    "    \n",
    "    j <- j + 1\n",
    "    currentTime <- Sys.time()\n",
    "    message(currentTime, \": Starting new run: \", j)\n",
    "    resultOneRun <- runCARNIVAL(inputObj = initiators, \n",
    "                                measObj = measurements, \n",
    "                                netObj = i,\n",
    "                                solver=\"cplex\", \n",
    "                                solverPath=cplexPath)   \n",
    "    currentTime <- Sys.time()\n",
    "    message(currentTime, \": Finished run: \", j)\n",
    "    collectedResults <- c(resultOneRun, collectedResults)\n",
    "    \n",
    "  }\n",
    "  \n",
    "  return(collectedResults)\n",
    "}"
   ]
  },
  {
   "cell_type": "code",
   "execution_count": null,
   "id": "harmful-dubai",
   "metadata": {},
   "outputs": [],
   "source": [
    "diffNodes = base::setdiff(omnipath_pkn$source, omnipath_pkn$target)\n",
    "initiators = base::data.frame(base::matrix(data = NaN, nrow = 1, ncol = length(diffNodes)), stringsAsFactors = F)\n",
    "colnames(initiators) = diffNodes\n",
    "initiators "
   ]
  }
 ],
 "metadata": {
  "language_info": {
   "name": "python",
   "pygments_lexer": "ipython3"
  }
 },
 "nbformat": 4,
 "nbformat_minor": 5
}
