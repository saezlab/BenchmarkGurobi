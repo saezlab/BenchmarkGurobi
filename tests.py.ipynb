{
 "cells": [
  {
   "cell_type": "code",
   "execution_count": null,
   "id": "preceding-joyce",
   "metadata": {},
   "outputs": [],
   "source": [
    "%matplotlib notebook\n",
    "%load_ext rpy2.ipython\n",
    "from IPython.display import Image\n",
    "import graphviz\n",
    "import matplotlib.pyplot as plt\n",
    "import networkx as nx\n",
    "import numpy as np\n",
    "import pandas as pd\n",
    "from pyvis.network import Network\n",
    "import pydotplus\n",
    "import rpy2.robjects as robjects\n",
    "from rpy2.robjects import pandas2ri\n",
    "pandas2ri.activate()\n",
    "readRDS = robjects.r['readRDS']\n",
    "\n",
    "\n",
    "def get_num_edges(nodes):\n",
    "    \"\"\"Returns number of edges in a complete graph given number of nodes\"\"\"\n",
    "    return nodes * (nodes - 1)/2\n",
    "\n",
    "def get_num_nodes(edges):\n",
    "    \"\"\"Returns number of nodes in a complete graph given number of edges\"\"\"\n",
    "    return 0.5 * (1 + np.sqrt(1 + 8*edges))"
   ]
  },
  {
   "cell_type": "markdown",
   "id": "completed-azerbaijan",
   "metadata": {},
   "source": [
    "# Number of nodes\n",
    "Plot to see what is the upper bound on the number of edges given number of nodes. Useful to see the range of edges for benchmarks."
   ]
  },
  {
   "cell_type": "code",
   "execution_count": null,
   "id": "appropriate-willow",
   "metadata": {},
   "outputs": [],
   "source": [
    "num = np.arange(10, 1000, 10)\n",
    "fig, ax = plt.subplots()\n",
    "ax.plot(num, get_num_edges(num))\n",
    "ax.set_title(\"Complete graph\")\n",
    "ax.set_xlabel(\"Number of nodes\")\n",
    "ax.set_ylabel(\"Number of edges\")\n",
    "ax.ticklabel_format(style='sci', axis='y', scilimits=(0,0))"
   ]
  },
  {
   "cell_type": "markdown",
   "id": "comparable-operations",
   "metadata": {},
   "source": [
    "# Visualising networks\n",
    "There are two ways: with `networkx` module and `pyvis` module.\n",
    "\n",
    "## networkx\n",
    "`networkx` gives static plots: "
   ]
  },
  {
   "cell_type": "code",
   "execution_count": null,
   "id": "metric-columbia",
   "metadata": {},
   "outputs": [],
   "source": [
    "fname = \"Output/Erdos/E300_N100_I10_M10_S1_P2_2/cplex/network_solution.dot\"\n",
    "\n",
    "g = nx.drawing.nx_agraph.read_dot(fname)\n",
    "pos = nx.spring_layout(g, 0.1, iterations=50)\n",
    "\n",
    "fig, ax = plt.subplots()\n",
    "nx.draw(g, pos, ax, with_labels=True)"
   ]
  },
  {
   "cell_type": "markdown",
   "id": "ordered-connecticut",
   "metadata": {},
   "source": [
    "## Pyvis\n",
    "`pyvis` gives interactive plots:"
   ]
  },
  {
   "cell_type": "code",
   "execution_count": null,
   "id": "final-litigation",
   "metadata": {},
   "outputs": [],
   "source": [
    "g = Network(500, 1000, notebook=True)\n",
    "g.from_DOT(fname)\n",
    "g.show(fname.replace(\".dot\", \".html\"))"
   ]
  },
  {
   "cell_type": "markdown",
   "id": "familiar-numbers",
   "metadata": {},
   "source": [
    "The method shown below, of going through networkx, allows edges and nodes to be accessible through `g.get_edges()` and `g.get_nodes()` methods"
   ]
  },
  {
   "cell_type": "code",
   "execution_count": null,
   "id": "union-spyware",
   "metadata": {},
   "outputs": [],
   "source": [
    "g = Network(1000, 1000, bgcolor=\"#414141\", notebook=True)\n",
    "g.from_nx(nx.drawing.nx_agraph.read_dot(fname))\n",
    "# g.show_buttons()\n",
    "g.set_options(\"\"\"\n",
    "var options = {\n",
    "  \"nodes\": {\n",
    "    \"font\": {\n",
    "      \"color\": \"rgba(153,153,153,1)\"\n",
    "    }\n",
    "  },\n",
    "  \"edges\": {\n",
    "    \"color\": {\n",
    "      \"inherit\": true\n",
    "    },\n",
    "    \"smooth\": false\n",
    "  },\n",
    "  \"physics\": {\n",
    "    \"minVelocity\": 0.75\n",
    "  }\n",
    "}\n",
    "\"\"\")\n",
    "g.show(fname.replace(\".dot\", \"2.html\"))"
   ]
  },
  {
   "cell_type": "markdown",
   "id": "bigger-dallas",
   "metadata": {},
   "source": [
    "## Graphviz"
   ]
  },
  {
   "cell_type": "code",
   "execution_count": null,
   "id": "attempted-aging",
   "metadata": {},
   "outputs": [],
   "source": [
    "with open(fname) as fh:\n",
    "    dot_graph = fh.read()\n",
    "graphviz.Source(dot_graph)"
   ]
  },
  {
   "cell_type": "markdown",
   "id": "patient-mechanism",
   "metadata": {},
   "source": [
    "## pydotplus"
   ]
  },
  {
   "cell_type": "code",
   "execution_count": null,
   "id": "atlantic-pride",
   "metadata": {},
   "outputs": [],
   "source": [
    "with open(fname) as fh:\n",
    "    dot_graph = fh.read()\n",
    "pydot_graph = pydotplus.graph_from_dot_data(dot_graph)\n",
    "Image(pydot_graph.create_png(), width=400)"
   ]
  },
  {
   "cell_type": "markdown",
   "id": "consolidated-athletics",
   "metadata": {},
   "source": [
    "# Running R code\n",
    "Running R code in python jupyter notebook"
   ]
  },
  {
   "cell_type": "code",
   "execution_count": null,
   "id": "packed-target",
   "metadata": {},
   "outputs": [],
   "source": [
    "%%R\n",
    "print(readRDS(\"Output/Erdos/E100_N20_I3_M3_S1_P2_2/cplex/result.Rds\")$weightedSIF)\n",
    "print(readRDS(\"Output/Erdos/E100_N20_I3_M3_S1_P2_2/cbc/result.Rds\")$weightedSIF)\n",
    "print(readRDS(\"Output/Erdos/E100_N20_I3_M3_S1_P2_2/lpSolve/result.Rds\")$weightedS)"
   ]
  }
 ],
 "metadata": {
  "language_info": {
   "name": "python",
   "pygments_lexer": "ipython3"
  }
 },
 "nbformat": 4,
 "nbformat_minor": 5
}
