{
 "cells": [
  {
   "cell_type": "code",
   "execution_count": null,
   "id": "preceding-joyce",
   "metadata": {},
   "outputs": [],
   "source": [
    "%matplotlib notebook\n",
    "%load_ext rpy2.ipython\n",
    "from IPython.display import Image\n",
    "import graphviz\n",
    "import matplotlib.pyplot as plt\n",
    "import networkx as nx\n",
    "import numpy as np\n",
    "from os import listdir, makedirs, path, system\n",
    "import pandas as pd\n",
    "from pyvis.network import Network\n",
    "import pydotplus\n",
    "import rpy2.robjects as robjects\n",
    "from rpy2.robjects import pandas2ri\n",
    "from Scripts.read_logs import SolverLogs, get_results\n",
    "pandas2ri.activate()\n",
    "readRDS = robjects.r['readRDS']\n"
   ]
  },
  {
   "cell_type": "markdown",
   "id": "completed-azerbaijan",
   "metadata": {},
   "source": [
    "# Number of nodes\n",
    "Plot to see what is the upper bound on the number of edges given number of nodes. Useful to see the range of edges for benchmarks."
   ]
  },
  {
   "cell_type": "code",
   "execution_count": null,
   "id": "appropriate-willow",
   "metadata": {},
   "outputs": [],
   "source": [
    "def get_num_edges(nodes):\n",
    "    \"\"\"Returns number of edges in a complete graph given number of nodes\"\"\"\n",
    "    return nodes * (nodes - 1)/2\n",
    "\n",
    "def get_num_nodes(edges):\n",
    "    \"\"\"Returns number of nodes in a complete graph given number of edges\"\"\"\n",
    "    return 0.5 * (1 + np.sqrt(1 + 8*edges))\n",
    "\n",
    "num = np.arange(10, 1000, 10)\n",
    "fig, ax = plt.subplots()\n",
    "ax.plot(num, get_num_edges(num))\n",
    "ax.set_title(\"Complete graph\")\n",
    "ax.set_xlabel(\"Number of nodes\")\n",
    "ax.set_ylabel(\"Number of edges\")\n",
    "ax.ticklabel_format(style='sci', axis='y', scilimits=(0,0))"
   ]
  },
  {
   "cell_type": "markdown",
   "id": "comparable-operations",
   "metadata": {},
   "source": [
    "# Visualising networks\n",
    "There are two ways: with `networkx` module and `pyvis` module.\n",
    "\n",
    "## networkx\n",
    "`networkx` gives static plots: "
   ]
  },
  {
   "cell_type": "code",
   "execution_count": null,
   "id": "metric-columbia",
   "metadata": {},
   "outputs": [],
   "source": [
    "fname = \"Output/Erdos/E10_N8_I3_M2_S1/carnival_input.dot\"\n",
    "\n",
    "g = nx.drawing.nx_agraph.read_dot(fname)\n",
    "pos = nx.spring_layout(g, 0.1, iterations=50)\n",
    "\n",
    "fig, ax = plt.subplots()\n",
    "nx.draw(g, pos, ax, with_labels=True)"
   ]
  },
  {
   "cell_type": "markdown",
   "id": "ordered-connecticut",
   "metadata": {},
   "source": [
    "## Pyvis\n",
    "`pyvis` gives interactive plots:"
   ]
  },
  {
   "cell_type": "code",
   "execution_count": null,
   "id": "final-litigation",
   "metadata": {},
   "outputs": [],
   "source": [
    "g = Network(500, 1000, notebook=True)\n",
    "g.from_DOT(fname)\n",
    "g.show(fname.replace(\".dot\", \".html\"))"
   ]
  },
  {
   "cell_type": "markdown",
   "id": "familiar-numbers",
   "metadata": {},
   "source": [
    "The method shown below, of going through networkx, allows edges and nodes to be accessible through `g.get_edges()` and `g.get_nodes()` methods"
   ]
  },
  {
   "cell_type": "code",
   "execution_count": null,
   "id": "union-spyware",
   "metadata": {},
   "outputs": [],
   "source": [
    "g = Network(1000, 1000, bgcolor=\"#414141\", notebook=True)\n",
    "g.from_nx(nx.drawing.nx_agraph.read_dot(fname))\n",
    "# g.show_buttons()\n",
    "g.set_options(\"\"\"\n",
    "var options = {\n",
    "  \"nodes\": {\n",
    "    \"font\": {\n",
    "      \"color\": \"rgba(153,153,153,1)\"\n",
    "    }\n",
    "  },\n",
    "  \"edges\": {\n",
    "    \"color\": {\n",
    "      \"inherit\": true\n",
    "    },\n",
    "    \"smooth\": false\n",
    "  },\n",
    "  \"physics\": {\n",
    "    \"minVelocity\": 0.75\n",
    "  }\n",
    "}\n",
    "\"\"\")\n",
    "g.show(fname.replace(\".dot\", \"2.html\"))"
   ]
  },
  {
   "cell_type": "markdown",
   "id": "bigger-dallas",
   "metadata": {},
   "source": [
    "## Graphviz"
   ]
  },
  {
   "cell_type": "code",
   "execution_count": null,
   "id": "attempted-aging",
   "metadata": {},
   "outputs": [],
   "source": [
    "with open(fname) as fh:\n",
    "    dot_graph = fh.read()\n",
    "graphviz.Source(dot_graph)"
   ]
  },
  {
   "cell_type": "markdown",
   "id": "raising-terry",
   "metadata": {},
   "source": [
    "# Multiple solution gurobi issue"
   ]
  },
  {
   "cell_type": "code",
   "execution_count": null,
   "id": "broken-great",
   "metadata": {},
   "outputs": [],
   "source": [
    "def get_command(lp_file, **kwargs):\n",
    "    params = \" \".join([f\"{x}={y}\" for x,y in kwargs.items()])\n",
    "    return f\"gurobi_cl {params} {lp_file}\"\n",
    "\n",
    "dir_name = \"Output/Erdos/E1050_N350_I10_M10_S1/\"\n",
    "lp_file = [x for x in listdir(f\"{dir_name}/gurobi_N1/\") if x.endswith(\".lp\")][0]\n",
    "lp_file = f\"{dir_name}/gurobi_N1/{lp_file}\"\n",
    "gurobi_params = {\n",
    "    \"MIPGAP\": 0.05,\n",
    "    \"PoolGap\": 0.0001,\n",
    "    \"SolutionLimit\": 500,\n",
    "    \"PoolSolutions\": 100,\n",
    "    \"PoolSearchMode\": 2\n",
    "}\n",
    "\n",
    "for i in range(3):\n",
    "    sub_dir = f\"Output/GurobiMultipleSolutions/NumericFocus{i}\"\n",
    "    if not path.isdir(sub_dir): makedirs(sub_dir)\n",
    "\n",
    "    command = get_command(lp_file, NumericFocus=i, **gurobi_params,\n",
    "                          ResultFile=f\"{sub_dir}/gurobi_result.sol\", \n",
    "                          LogFile=f\"{sub_dir}/log.txt\",\n",
    "                          SolFiles=f\"{sub_dir}/solution\")\n",
    "    system(command)"
   ]
  },
  {
   "cell_type": "code",
   "execution_count": null,
   "id": "excited-engagement",
   "metadata": {},
   "outputs": [],
   "source": [
    "sub_dir = \"Output/GurobiMultipleSolutions/NumericFocus0/\"\n",
    "df = pd.read_csv(f\"{sub_dir}/gurobi_result.sol\", sep=\" \", skiprows=2, index_col=0, names=[\"solution\"])\n",
    "df"
   ]
  },
  {
   "cell_type": "code",
   "execution_count": null,
   "id": "specialized-peter",
   "metadata": {},
   "outputs": [],
   "source": [
    "def get_obj_value(filename):\n",
    "    with open(filename) as fh:\n",
    "        line = fh.readline()\n",
    "        # skip the first line (Solution for model Obj)\n",
    "        if \"=\" not in line: line = fh.readline()\n",
    "        return float(line.rstrip().split(\" = \")[1])\n",
    "\n",
    "for i in range(3):\n",
    "    sub_dir = f\"Output/GurobiMultipleSolutions/NumericFocus{i}/\"\n",
    "    all_solutions = [f\"{sub_dir}/{x}\" for x in listdir(sub_dir) if x.endswith(\".sol\")]\n",
    "    \n",
    "    opt_val = get_obj_value(f\"{sub_dir}/gurobi_result.sol\")\n",
    "    correct_solutions = [x for x in all_solutions if abs(get_obj_value(x) - opt_val) < 1e-5]\n",
    "    \n",
    "    log_num = SolverLogs(\"gurobi\", f\"{sub_dir}/log.txt\")[\"solution_count\"]\n",
    "    print(f\"Num solutions: {len(correct_solutions)} / {len(all_solutions)}, \", \n",
    "          f\"Solutions based on log: {log_num}\")"
   ]
  },
  {
   "cell_type": "code",
   "execution_count": null,
   "id": "occupational-reference",
   "metadata": {},
   "outputs": [],
   "source": [
    "params = {\"skiprows\": 2, \"sep\": \" \", \"index_col\": 0}\n",
    "pd.concat([pd.read_csv(x, **params, names=[f\"Solution-{i+1}\"]) for i, x in enumerate(correct_solutions)], axis=1)"
   ]
  },
  {
   "cell_type": "code",
   "execution_count": null,
   "id": "portable-remainder",
   "metadata": {},
   "outputs": [],
   "source": [
    "%%R\n",
    "\n",
    "solution <- read.delim(\"Output/Erdos/E1050_N350_I10_M10_S1/cplex_N1/result_t11_39_53d26_07_2021n85.txt\")\n",
    "\n",
    "solution[, 1] <- as.character(solution[, 1])\n",
    "idxVarStart <- which(grepl(pattern = \"<variables>\", x = solution[, 1]))[-1]\n",
    "idxVarEnd <- which(grepl(pattern = \"</variables>\", x = solution[, 1]))[-1]\n",
    "\n",
    "solMatrix <- matrix(data = , nrow = idxVarEnd[1]-idxVarStart[1]-1,\n",
    "                  ncol = length(idxVarStart))\n",
    "colnames(solMatrix) <- paste0(\"Solution-\", seq_len(ncol(solMatrix)))\n",
    "ss1 <- sapply(strsplit(solution[seq(from = idxVarStart[1]+1,\n",
    "                                  to = idxVarEnd[1]-1, by = 1), 1],\n",
    "                     split = \" \"), \"[\", 5)\n",
    "\n",
    "rownames(solMatrix) <- sapply((strsplit(ss1, split = \"=\")), \"[\", 2)\n",
    "\n",
    "for(ii in seq_len(ncol(solMatrix))){\n",
    "\n",
    "    ss1 <-\n",
    "      sapply(strsplit(solution[seq(from = idxVarStart[ii]+1,\n",
    "                                   to = idxVarEnd[ii]-1, by = 1), 1],\n",
    "                      split = \" \"), \"[\", 7)\n",
    "    solMatrix[, ii] <-\n",
    "      gsub(pattern = \"/>\", replacement = \"\",\n",
    "           x = sapply(strsplit(ss1, split = \"=\"), \"[\", 2))\n",
    "\n",
    "}\n",
    "\n",
    "solMatrix[1:10, ]"
   ]
  },
  {
   "cell_type": "code",
   "execution_count": null,
   "id": "neither-russia",
   "metadata": {},
   "outputs": [],
   "source": [
    "%%R\n",
    "\n",
    "sol_file <- \"Output/GurobiMultipleSolutions/NumericFocus2/gurobi_result.sol\"\n",
    "opt_val <- as.numeric(tail(scan(sol_file, nlines=2, what=character(), quiet=T), 1))\n",
    "sol_names <- list.files(path=dirname(sol_file), pattern=\"solution_\", recursive=TRUE)\n",
    "\n",
    "dfs <- read.csv2(sol_file, sep=\" \", comment.char=\"#\", header=F, \n",
    "                 row.names=1, col.names=c(\"Names\", \"Solution-0\"))\n",
    "for (i in 1:length(sol_names)-1) {\n",
    "    x <- paste0(\"Output/GurobiMultipleSolutions/NumericFocus2/solution_\", i, \".sol\")\n",
    "    obj_val <- as.numeric(tail(scan(x, nlines=2, what=character(), quiet=T), 1))\n",
    "    if (abs(obj_val - opt_val) < 1e-5) {\n",
    "        df_temp <- read.csv2(x, sep=\" \", comment.char=\"#\", \n",
    "                             header=F, row.names=1, col.names=c(\"Names\", paste0(\"Solution-\", i)))\n",
    "        dfs <- cbind(dfs, df_temp)\n",
    "    }\n",
    "}\n",
    "\n",
    "dfs <- as.matrix(dfs[-1])\n",
    "dfs[1:10, ]"
   ]
  },
  {
   "cell_type": "markdown",
   "id": "consolidated-athletics",
   "metadata": {},
   "source": [
    "# Running R code\n",
    "Running R code in python jupyter notebook"
   ]
  },
  {
   "cell_type": "code",
   "execution_count": null,
   "id": "packed-target",
   "metadata": {},
   "outputs": [],
   "source": [
    "%%R\n",
    "print(readRDS(\"Output/Erdos/E300_N100_I10_M10_S1/cplex_N1/result.Rds\")$weightedSIF)"
   ]
  }
 ],
 "metadata": {
  "language_info": {
   "name": "python",
   "pygments_lexer": "ipython3"
  }
 },
 "nbformat": 4,
 "nbformat_minor": 5
}
