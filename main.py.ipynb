{
 "cells": [
  {
   "cell_type": "markdown",
   "id": "forbidden-hunger",
   "metadata": {},
   "source": [
    "# Benchmark Gurobi\n",
    "\n",
    "This repository is for testing and benchmarking the gurobi implementation within CARNIVAL.\n",
    "\n",
    "We have implemented the gurobi ILP solver into CARNIVAL. To compare the performance of gurobi solver, we have ran benchmarks on synthetic prior knowledge networks (PKNs) generated using the `igraph` package. We generated two types of PKNs: Erdos-Renyi and powerlaw. Once the PKNs have been generated, we run CARNIVAL with the following parameters using cplex and gurobi ILP solvers:\n",
    "\n",
    "* mipGAP = 0.05,\n",
    "* poolrelGAP = 1e-04,\n",
    "* limitPop = 500,\n",
    "* poolCap = 100,\n",
    "* poolIntensity = 4,\n",
    "* poolReplace = 2,\n",
    "* alphaWeight = 1,\n",
    "* betaWeight = 0.2.\n",
    "\n",
    "# Setup\n",
    "\n",
    "In this section, we go though the setup necessary to run this notebook. \n",
    "\n",
    "## Conda environment\n",
    "\n",
    "If anaconda is available on the cluster, then load that through module:\n",
    "```\n",
    "module load Anaconda3\n",
    "```\n",
    "Or follow the instructions on [Miniconda website](https://docs.conda.io/en/latest/miniconda.html).\n",
    "\n",
    "Then create a conda environment based on the `conda_env.yml` file in this repository using:\n",
    "```\n",
    "conda env create -n bq_dev -f conda_env.yml\n",
    "```\n",
    "\n",
    "## Snakemake\n",
    "\n",
    "To generate this report run snakemake:\n",
    "```\n",
    "snakemake --profile Slurm --resources load=1\n",
    "```\n",
    "\n",
    "## Load packages"
   ]
  },
  {
   "cell_type": "code",
   "execution_count": null,
   "id": "governing-injury",
   "metadata": {},
   "outputs": [],
   "source": [
    "%matplotlib inline\n",
    "%load_ext rpy2.ipython\n",
    "from IPython.display import HTML, display\n",
    "import matplotlib.pyplot as plt\n",
    "import networkx as nx\n",
    "import numpy as np\n",
    "import pandas as pd\n",
    "import pydotplus\n",
    "from pyvis.network import Network\n",
    "import rpy2.robjects as robjects\n",
    "from rpy2.robjects import pandas2ri\n",
    "from Scripts.read_logs import SolverLogs, get_results\n",
    "\n",
    "\n",
    "pandas2ri.activate()\n",
    "readRDS = robjects.r['readRDS']\n",
    "plt.rcParams.update({\"savefig.format\": \"svg\", \"savefig.transparent\": True})"
   ]
  },
  {
   "cell_type": "markdown",
   "id": "irish-accident",
   "metadata": {},
   "source": [
    "# Example"
   ]
  },
  {
   "cell_type": "code",
   "execution_count": null,
   "id": "damaged-agriculture",
   "metadata": {},
   "outputs": [],
   "source": [
    "dirname = \"Output/Erdos/E300_N100_I10_M10_S1/\"\n",
    "g = nx.drawing.nx_agraph.read_dot(f\"{dirname}carnival_input.dot\")\n",
    "pos = nx.spring_layout(g, 2.5, iterations=100)\n",
    "fig, ax = plt.subplots(figsize=(10, 5))\n",
    "ax.set_title(\"PKN: 300 edges and 100 nodes\")\n",
    "nx.draw(g, pos, ax, with_labels=True)"
   ]
  },
  {
   "cell_type": "code",
   "execution_count": null,
   "id": "interracial-diary",
   "metadata": {},
   "outputs": [],
   "source": [
    "dirname = \"Output/Erdos/E600_N200_I10_M10_S1/\"\n",
    "solvers = (\"cbc\", \"cplex\", \"gurobi\")\n",
    "titles = (\"Execution time [min]\", \"Memory usage [MB]\" , \"Objective value\", \"Number of solutions\")\n",
    "\n",
    "logs = {x: SolverLogs(x, f\"{dirname}{x}_N1/log.txt\").get_data() for x in solvers}\n",
    "benchmarks = {x: pd.read_csv(f\"{dirname}{x}_N1/benchmark.tsv\", \"\\t\") for x in solvers}\n",
    "\n",
    "fig, axs = plt.subplots(1, 4, figsize=(10, 4))\n",
    "fig.subplots_adjust(wspace=0.4, left=0.07, right=0.93, bottom=0.2)\n",
    "for ax, t in zip(axs, titles): ax.set_title(t)\n",
    "axs[0].bar(solvers, [benchmarks[x][\"s\"].mean()/60 for x in solvers])\n",
    "axs[1].bar(solvers, [benchmarks[x][\"max_rss\"].mean() for x in solvers])\n",
    "axs[2].bar(solvers, [logs[x][\"objective_value\"] for x in solvers])\n",
    "axs[3].bar(solvers, [logs[x][\"solution_count\"] for x in solvers])"
   ]
  },
  {
   "cell_type": "markdown",
   "id": "latter-vehicle",
   "metadata": {},
   "source": [
    "# Results\n",
    "\n",
    "## Erdos networks\n",
    "\n",
    "The Erdos-Renyi PKNs were generated using `igraph::erdos.renyi.game` function, with three times the number of edges given the number of nodes in the PKN. Figure below shows the results of these benchmarks. Both solvers (cplex and gurobi), return the same number of solutions and the same best value of objective function. Where the two solvers differ is in the execution time and memory consumption. We see in figure below that execution time of CARNIVAL when using gurobi solver is much better when compared to using cplex as the solver. Similarly for memory consumption, we see that gurobi has lower usage, except for the largest three PKNs."
   ]
  },
  {
   "cell_type": "code",
   "execution_count": null,
   "id": "posted-copyright",
   "metadata": {},
   "outputs": [],
   "source": [
    "num_nodes = np.arange(50, 1050, 50)\n",
    "df_gurobi = pd.DataFrame([get_results(3*x, x, \"gurobi\", \"Erdos\", seed=1) for x in num_nodes])\n",
    "df_cplex = pd.DataFrame([get_results(3*x, x, \"cplex\", \"Erdos\", seed=1) for x in num_nodes])\n",
    "\n",
    "fig, axs = plt.subplots(1, 4, figsize=(10, 4))\n",
    "fig.subplots_adjust(wspace=0.4, left=0.07, right=0.93, bottom=0.2)\n",
    "for i, x in enumerate(df_gurobi.columns):\n",
    "    axs[i].plot(3*num_nodes, df_gurobi[x], \"o-\")\n",
    "    axs[i].plot(3*num_nodes, df_cplex[x], \"s--\")\n",
    "    axs[i].set_xlabel(\"Number of edges\")\n",
    "    axs[i].set_title(x)\n",
    "fig.legend(axs[-1].lines, [\"gurobi\", \"cplex\"], loc=\"lower center\", ncol=2)\n",
    "fig.suptitle(\"Erdos networks\")\n",
    "fig.savefig(\"Images/benchmarks_erdos_small\")"
   ]
  },
  {
   "cell_type": "markdown",
   "id": "documented-chain",
   "metadata": {},
   "source": [
    "Same as above, but for bigger networks"
   ]
  },
  {
   "cell_type": "code",
   "execution_count": null,
   "id": "turkish-salad",
   "metadata": {},
   "outputs": [],
   "source": [
    "num_nodes = np.arange(1, 6) * 1000\n",
    "df_gurobi = pd.DataFrame([get_results(3*x, x, \"gurobi\", \"Erdos\", seed=1) for x in num_nodes])\n",
    "df_cplex = pd.DataFrame([get_results(3*x, x, \"cplex\", \"Erdos\", seed=1) for x in num_nodes])\n",
    "\n",
    "fig, axs = plt.subplots(1, 4, figsize=(10, 4))\n",
    "fig.subplots_adjust(wspace=0.4, left=0.07, right=0.93, bottom=0.2)\n",
    "for i, x in enumerate(df_gurobi.columns):\n",
    "    axs[i].plot(3*num_nodes, df_gurobi[x], \"o-\")\n",
    "    axs[i].plot(3*num_nodes, df_cplex[x], \"s--\")\n",
    "    axs[i].set_xlabel(\"Number of edges\")\n",
    "    axs[i].set_title(x)\n",
    "fig.legend(axs[-1].lines, [\"gurobi\", \"cplex\"], loc=\"lower center\", ncol=2)\n",
    "fig.suptitle(\"Erdos networks\")\n",
    "fig.savefig(\"Images/benchmarks_erdos_medium\")"
   ]
  },
  {
   "cell_type": "markdown",
   "id": "offshore-bread",
   "metadata": {},
   "source": [
    "## Powerlaw networks\n",
    "\n",
    "The powerlaw PKNs were generated using `igraph::static.power.law.game` function, with four times the number of edges given the number of nodes in the PKN. Figure below shows a similar results to the benchmarks with Erdos-Renyi PKNs, namely gurobi outperforms cplex with respect to execution time and memry consumption. The same number of solutions was given by CARNIVAL with cplex and gurobi, as well as the best objective function value."
   ]
  },
  {
   "cell_type": "code",
   "execution_count": null,
   "id": "liberal-rehabilitation",
   "metadata": {},
   "outputs": [],
   "source": [
    "col_names = [\"Execution time [min]\", \"Memory [MB]\", \"Obj. value\", \"Number of solutions\"]\n",
    "num_nodes = np.arange(50, 400, 50)\n",
    "df_gurobi = pd.DataFrame([get_results(4*x, x, \"gurobi\", \"Powerlaw\", seed=1) for x in num_nodes])\n",
    "df_cplex = pd.DataFrame([get_results(4*x, x, \"cplex\", \"Powerlaw\", seed=1) for x in num_nodes])\n",
    "\n",
    "fig, axs = plt.subplots(1, 4, figsize=(10, 4))\n",
    "fig.subplots_adjust(wspace=0.4, left=0.07, right=0.93, bottom=0.2)\n",
    "for i, x in enumerate(df_gurobi.columns):\n",
    "    axs[i].plot(3*num_nodes, df_gurobi[x], \"o-\")\n",
    "    axs[i].plot(3*num_nodes, df_cplex[x], \"s--\")\n",
    "    axs[i].set_title(x)\n",
    "    axs[i].set_xlabel(\"Number of edges\")\n",
    "fig.legend(axs[-1].lines, [\"gurobi\", \"cplex\"], loc=\"lower center\", ncol=2)\n",
    "fig.suptitle(\"Powerlaw networks\")\n",
    "fig.savefig(\"Images/benchmarks_powerlaw_small\")"
   ]
  },
  {
   "cell_type": "markdown",
   "id": "local-montana",
   "metadata": {},
   "source": [
    "## Distributed optimization\n",
    "\n",
    "Using gurobi distributed optimization"
   ]
  },
  {
   "cell_type": "code",
   "execution_count": null,
   "id": "ancient-disclosure",
   "metadata": {},
   "outputs": [],
   "source": [
    "num_nodes = np.arange(1, 10)  # compute nodes on the cluster\n",
    "res = [get_results(3000, 1000, \"gurobi\", \"Erdos\", seed=1, parallel=x)\n",
    "       for x in range(1, 10)]\n",
    "df_gurobi = pd.DataFrame(res)\n",
    "\n",
    "fig, axs = plt.subplots(1, 4, figsize=(10, 4))\n",
    "fig.subplots_adjust(wspace=0.4, left=0.07, right=0.93, bottom=0.2)\n",
    "for i, x in enumerate(df_gurobi.columns):\n",
    "    axs[i].plot(num_nodes, df_gurobi[x], \"o-\")\n",
    "    axs[i].set_xlabel(\"Compute nodes\")\n",
    "    axs[i].set_title(x)\n",
    "    axs[i].set_xticks(num_nodes)\n",
    "fig.suptitle(\"Erdos networks\")\n",
    "fig.savefig(\"Images/benchmarks_distributed\")"
   ]
  },
  {
   "cell_type": "markdown",
   "id": "touched-clerk",
   "metadata": {},
   "source": [
    "# Discussion\n",
    "\n",
    "The benchmarks ran so far indicate that gurobi is a better ILP solver for CARNIVAL, though benchmarks on larger networks need to be run. The repository [https://github.com/saezlab/BenchmarkGurobi](https://github.com/saezlab/BenchmarkGurobi) contains the report on these benchmarks and a snakemake pipeline to reproduce all the results."
   ]
  }
 ],
 "metadata": {
  "language_info": {
   "name": "python",
   "pygments_lexer": "ipython3"
  }
 },
 "nbformat": 4,
 "nbformat_minor": 5
}
