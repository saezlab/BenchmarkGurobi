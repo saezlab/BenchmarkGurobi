{
 "cells": [
  {
   "cell_type": "markdown",
   "id": "entire-animation",
   "metadata": {},
   "source": [
    "# Benchmarking Gurobi\n"
   ]
  },
  {
   "cell_type": "code",
   "execution_count": null,
   "id": "annoying-cross",
   "metadata": {},
   "outputs": [],
   "source": [
    "%matplotlib notebook\n",
    "%load_ext rpy2.ipython\n",
    "import matplotlib.pyplot as plt\n",
    "import networkx as nx\n",
    "import numpy as np\n",
    "import pandas as pd\n",
    "from pyvis.network import Network\n",
    "import rpy2.robjects as robjects\n",
    "from rpy2.robjects import pandas2ri\n",
    "pandas2ri.activate()\n",
    "readRDS = robjects.r['readRDS']\n",
    "\n",
    "\n",
    "class SolverLogs(object):\n",
    "    def __init__(self, filenames):\n",
    "        self.__data__ = {x: getattr(self, f\"__get_{x}__\")(y) for x, y in filenames.items()}\n",
    "\n",
    "    def __getitem__(self, key):\n",
    "        return self.__data__[key]\n",
    "    \n",
    "    def get_data(self):\n",
    "        return self.__data__\n",
    "        \n",
    "    def __get_cbc__(self, path_to_log):\n",
    "        obj_val = 0\n",
    "        with open(path_to_log) as fh:\n",
    "            for line in fh:\n",
    "                if \"Objective value:\" in line:\n",
    "                    obj_val = float(line.split(\"Objective value:\")[-1].strip(\"\\n \"))\n",
    "        return {\"objective_value\": obj_val, \"solution_count\": 1}\n",
    "    \n",
    "    def __get_cplex__(self, path_to_log):\n",
    "        obj_val = 0\n",
    "        sol_count = 0\n",
    "        with open(path_to_log) as fh:\n",
    "            for line in fh:\n",
    "                if \"Objective = \" in line:\n",
    "                    obj_val = float(line.split(\"Objective = \")[-1].strip(\"\\n \"))\n",
    "                if \"Solution pool:\" in line:\n",
    "                    sol_count = int(line.split(\" \")[2])\n",
    "        return {\"objective_value\": obj_val, \"solution_count\": sol_count}\n",
    "\n",
    "    def __get_gurobi__(self, path_to_log):\n",
    "        obj_val = 0\n",
    "        sol_count = 0\n",
    "        with open(path_to_log) as fh:\n",
    "            for line in fh:\n",
    "                if \"Best objective\" in line:\n",
    "                    obj_val = float(line.split(\",\")[0].split(\"Best objective\")[-1].strip(\"\\n \"))\n",
    "                if \"Solution count\" in line:\n",
    "                    sol_count = int(line.split(\":\")[0].split(\" \")[-1])\n",
    "        return {\"objective_value\": obj_val, \"solution_count\": sol_count}"
   ]
  },
  {
   "cell_type": "markdown",
   "id": "irish-accident",
   "metadata": {},
   "source": [
    "# Example "
   ]
  },
  {
   "cell_type": "code",
   "execution_count": null,
   "id": "manufactured-cruise",
   "metadata": {},
   "outputs": [],
   "source": [
    "fname = \"Output/Erdos/E300_N100_I10_M10_S1_P2_2/graph.dot\"\n",
    "g = Network(500, 1000, notebook=True)\n",
    "g.from_DOT(fname)\n",
    "g.show(fname.replace(\".dot\", \".html\"))"
   ]
  },
  {
   "cell_type": "code",
   "execution_count": null,
   "id": "interracial-diary",
   "metadata": {},
   "outputs": [],
   "source": [
    "solvers = (\"cbc\", \"cplex\", \"gurobi\")\n",
    "\n",
    "logs = {x: fname.replace(\"graph.dot\", f\"{x}/log.txt\") for x in solvers}\n",
    "logs = SolverLogs(logs).get_data()\n",
    "\n",
    "benchmarks = {x: pd.read_csv(fname.replace(\"graph.dot\", f\"{x}/benchmark.tsv\"), \"\\t\") \n",
    "              for x in solvers}\n",
    "\n",
    "fig, axs = plt.subplots(1, 4, figsize=(12, 4))\n",
    "fig.subplots_adjust(left=0.1, right=0.9, wspace=0.4)\n",
    "axs[0].bar(solvers, [benchmarks[x][\"s\"].mean()/60 for x in solvers])\n",
    "axs[0].set_ylabel(\"Execution time [min]\")\n",
    "axs[1].bar(solvers, [benchmarks[x][\"max_rss\"].mean() for x in solvers])\n",
    "axs[1].set_ylabel(\"Memory usage [MB]\")\n",
    "axs[2].bar(solvers, [logs[x][\"objective_value\"] for x in solvers])\n",
    "axs[2].set_ylabel(\"Objective function value\")\n",
    "axs[3].bar(solvers, [logs[x][\"solution_count\"] for x in solvers])\n",
    "axs[3].set_ylabel(\"Numner of solutions\")"
   ]
  },
  {
   "cell_type": "markdown",
   "id": "focused-banner",
   "metadata": {},
   "source": [
    "Solution given by CARNIVAL:"
   ]
  },
  {
   "cell_type": "code",
   "execution_count": null,
   "id": "soviet-burlington",
   "metadata": {},
   "outputs": [],
   "source": [
    "solver = \"cplex\"\n",
    "fname = fname.replace(\"graph.dot\", f\"{solver}/network_solution.dot\")\n",
    "g = Network(500, 1000, notebook=True)\n",
    "g.from_DOT(fname)\n",
    "g.show(fname.replace(\".dot\", \".html\"))"
   ]
  },
  {
   "cell_type": "markdown",
   "id": "female-brisbane",
   "metadata": {},
   "source": [
    "# Results"
   ]
  }
 ],
 "metadata": {
  "language_info": {
   "name": "python",
   "pygments_lexer": "ipython3"
  }
 },
 "nbformat": 4,
 "nbformat_minor": 5
}
