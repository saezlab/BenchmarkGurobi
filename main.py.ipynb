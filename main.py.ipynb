{
 "cells": [
  {
   "cell_type": "code",
   "execution_count": null,
   "id": "annoying-cross",
   "metadata": {},
   "outputs": [],
   "source": [
    "%matplotlib notebook\n",
    "%load_ext rpy2.ipython\n",
    "import matplotlib.pyplot as plt\n",
    "import numpy as np\n",
    "import pandas as pd\n",
    "import rpy2.robjects as robjects\n",
    "from rpy2.robjects import pandas2ri\n",
    "pandas2ri.activate()\n",
    "readRDS = robjects.r['readRDS']\n",
    "\n",
    "\n",
    "def plot_benchmarks(value, edges_nodes, ilp_solvers, **kwargs):\n",
    "    ni = 3 if \"num_inputs\" not in kwargs else kwargs[\"num_inputs\"]\n",
    "    nm = 3 if \"num_meas\" not in kwargs else kwargs[\"num_meas\"]\n",
    "    net_type = \"Erdos\" if \"net_type\" not in kwargs else kwargs[\"net_type\"]\n",
    "    figsize = (12, 5) if \"figsize\" not in kwargs else kwargs[\"figsize\"]\n",
    "    \n",
    "    get_benchmark = lambda x, y, z : pd.read_csv(f\"Output/{net_type}/E{x}_N{y}_I{ni}_M{nm}_S1_P2_2/{z}/benchmark.tsv\", sep=\"\\t\")\n",
    "    \n",
    "    data = np.array([[get_benchmark(x, y, z)[value].values for x, y in edges_nodes] for z in ilp_solvers])\n",
    "    \n",
    "    if \"scale\" in kwargs: data = kwargs[\"scale\"](data)\n",
    "    x_ticklabels = [x[0] for x in edges_nodes]\n",
    "    x_label = \"Number of edges\"\n",
    "        \n",
    "    fig, axs = plt.subplots(1, len(ilp_solvers), figsize=figsize, sharey=True)\n",
    "    fig.suptitle(net_type)\n",
    "    fig.subplots_adjust(bottom=0.2, left=0.1, right=0.9)\n",
    "    for i, ax in enumerate(axs):\n",
    "        ax.boxplot(data[i].tolist())\n",
    "        ax.set_xticklabels(x_ticklabels)\n",
    "        ax.set_xlabel(x_label)\n",
    "        ax.set_title(ilp_solvers[i])\n",
    "        \n",
    "    if \"ylabel\" in kwargs:\n",
    "        axs[0].set_ylabel(kwargs[\"ylabel\"])\n",
    "    if \"file\" in kwargs:\n",
    "        fig.savefig(kwargs[\"file\"])\n",
    "\n",
    "        \n",
    "time_settings = {\"ilp_solvers\": [\"cplex\", \"cbc\", \"lpSolve\"], \n",
    "                 \"ylabel\": \"Execution time [mins]\", \n",
    "                 \"scale\": lambda x : x/60,}\n",
    "mem_settings = {\"ilp_solvers\": [\"cplex\", \"cbc\", \"lpSolve\"], \n",
    "                \"ylabel\": \"Execution time [mins]\", \n",
    "                \"scale\": lambda x : x/60,}\n",
    "        \n",
    "t_args1 = {**time_settings, \n",
    "           \"edges_nodes\": [[x, 50] for x in np.arange(200, 1000, 100)], \n",
    "           \"file\": \"Figures/small_networks_time.svg\"}\n",
    "mem_args1 =  {**mem_settings,\n",
    "              \"edges_nodes\": [[x, 50] for x in np.arange(200, 1000, 100)], \n",
    "              \"file\": \"Figures/small_networks_memory.svg\"}\n",
    "\n",
    "t_args2 = {**time_settings, \n",
    "           \"edges_nodes\": [[x, 200] for x in np.arange(1000, 6000, 1000)], \n",
    "           \"file\": \"Figures/medium_networks_time.svg\"}\n",
    "mem_args2 =  {**mem_settings,\n",
    "              \"edges_nodes\": [[x, 200] for x in np.arange(1000, 6000, 1000)], \n",
    "              \"file\": \"Figures/medium_networks_memory.svg\"}"
   ]
  },
  {
   "cell_type": "markdown",
   "id": "qualified-porcelain",
   "metadata": {},
   "source": [
    "# Smaller networks"
   ]
  },
  {
   "cell_type": "code",
   "execution_count": null,
   "id": "arctic-ideal",
   "metadata": {},
   "outputs": [],
   "source": [
    "plot_benchmarks(\"s\", **t_args1, net_type=\"Erdos\")"
   ]
  },
  {
   "cell_type": "code",
   "execution_count": null,
   "id": "impressed-alloy",
   "metadata": {},
   "outputs": [],
   "source": [
    "plot_benchmarks(\"s\", **t_args1, net_type=\"Powerlaw\")"
   ]
  },
  {
   "cell_type": "code",
   "execution_count": null,
   "id": "electronic-magic",
   "metadata": {},
   "outputs": [],
   "source": [
    "plot_benchmarks(\"max_rss\", **mem_args1, net_type=\"Erdos\")"
   ]
  },
  {
   "cell_type": "code",
   "execution_count": null,
   "id": "nasty-visibility",
   "metadata": {},
   "outputs": [],
   "source": [
    "plot_benchmarks(\"max_rss\", **mem_args1, net_type=\"Powerlaw\")"
   ]
  },
  {
   "cell_type": "markdown",
   "id": "conscious-reynolds",
   "metadata": {},
   "source": [
    "# Medium networks"
   ]
  },
  {
   "cell_type": "code",
   "execution_count": null,
   "id": "expensive-disposition",
   "metadata": {},
   "outputs": [],
   "source": [
    "plot_benchmarks(\"s\", **t_args2, net_type=\"Erdos\")"
   ]
  },
  {
   "cell_type": "code",
   "execution_count": null,
   "id": "julian-boards",
   "metadata": {},
   "outputs": [],
   "source": [
    "plot_benchmarks(\"s\", **t_args2, net_type=\"Powerlaw\")"
   ]
  },
  {
   "cell_type": "code",
   "execution_count": null,
   "id": "distributed-casting",
   "metadata": {},
   "outputs": [],
   "source": [
    "plot_benchmarks(\"max_rss\", **mem_args2, net_type=\"Erdos\")"
   ]
  },
  {
   "cell_type": "code",
   "execution_count": null,
   "id": "disabled-transcript",
   "metadata": {},
   "outputs": [],
   "source": [
    "plot_benchmarks(\"max_rss\", **mem_args2, net_type=\"Powerlaw\")"
   ]
  },
  {
   "cell_type": "code",
   "execution_count": null,
   "id": "inner-silence",
   "metadata": {},
   "outputs": [],
   "source": [
    "%%R\n",
    "print(readRDS(\"Output/Erdos/E100_N20_I3_M3_S1_P2_2/cplex/result.Rds\")$weightedSIF)\n",
    "print(readRDS(\"Output/Erdos/E100_N20_I3_M3_S1_P2_2/cbc/result.Rds\")$weightedSIF)\n",
    "print(readRDS(\"Output/Erdos/E100_N20_I3_M3_S1_P2_2/lpSolve/result.Rds\")$weightedSIF)"
   ]
  }
 ],
 "metadata": {
  "language_info": {
   "name": "python",
   "pygments_lexer": "ipython3"
  }
 },
 "nbformat": 4,
 "nbformat_minor": 5
}
