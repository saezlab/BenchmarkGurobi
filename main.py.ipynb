{
 "cells": [
  {
   "cell_type": "code",
   "execution_count": null,
   "id": "annoying-cross",
   "metadata": {},
   "outputs": [],
   "source": [
    "%matplotlib notebook\n",
    "%load_ext rpy2.ipython\n",
    "import matplotlib.pyplot as plt\n",
    "import networkx as nx\n",
    "import numpy as np\n",
    "import pandas as pd\n",
    "from pyvis.network import Network\n",
    "import rpy2.robjects as robjects\n",
    "from rpy2.robjects import pandas2ri\n",
    "pandas2ri.activate()\n",
    "readRDS = robjects.r['readRDS']\n",
    "\n",
    "\n",
    "def get_num_edges(nodes):\n",
    "    \"\"\"Returns number of edges in a complete graph given number of nodes\"\"\"\n",
    "    return nodes * (nodes - 1)/2\n",
    "\n",
    "def get_num_nodes(edges):\n",
    "    \"\"\"Returns number of nodes in a complete graph given number of edges\"\"\"\n",
    "    return 0.5 * (1 + np.sqrt(1 + 8*edges))\n",
    "\n",
    "class ObjectiveValue(object):\n",
    "    def __init__(self, filenames):\n",
    "        self.__data__ = {x: getattr(self, f\"__get_{x}__\")(y) for x, y in filenames.items()}\n",
    "\n",
    "    def __getitem__(self, key):\n",
    "        return self.__data__[key]\n",
    "    \n",
    "    def get_data(self):\n",
    "        return self.__data__\n",
    "        \n",
    "    def __get_cbc__(self, path_to_log):\n",
    "        with open(path_to_log) as fh:\n",
    "            obj_val = [x for x  in fh if \"Objective value:\" in x]\n",
    "        return float(obj_val[-1].split(\"Objective value:\")[-1].strip(\"\\n \"))\n",
    "    \n",
    "    def __get_cplex__(self, path_to_log):\n",
    "        with open(path_to_log) as fh:\n",
    "            obj_val = [x for x  in fh if \"Objective = \" in x]\n",
    "        return float(obj_val[-1].split(\"Objective = \")[-1].strip(\"\\n \"))\n",
    "\n",
    "    def __get_gurobi__(self, path_to_log):\n",
    "        with open(path_to_log) as fh:\n",
    "            obj_val = [x for x  in fh if \"Best objective\" in x]\n",
    "        return float(obj_val[-1].split(\",\")[0].split(\"Best objective\")[-1].strip(\"\\n \"))\n",
    "\n",
    "def plot_benchmarks(value, edges_nodes, ilp_solvers, **kwargs):\n",
    "    ni = 3 if \"num_inputs\" not in kwargs else kwargs[\"num_inputs\"]\n",
    "    nm = 3 if \"num_meas\" not in kwargs else kwargs[\"num_meas\"]\n",
    "    net_type = \"Erdos\" if \"net_type\" not in kwargs else kwargs[\"net_type\"]\n",
    "    figsize = (12, 5) if \"figsize\" not in kwargs else kwargs[\"figsize\"]\n",
    "    \n",
    "    get_benchmark = lambda x, y, z : pd.read_csv(f\"Output/{net_type}/E{x}_N{y}_I{ni}_M{nm}_S1_P2_2/{z}/benchmark.tsv\", sep=\"\\t\")\n",
    "    \n",
    "    data = np.array([[get_benchmark(x, y, z)[value].values for x, y in edges_nodes] for z in ilp_solvers])\n",
    "    \n",
    "    if \"scale\" in kwargs: data = kwargs[\"scale\"](data)\n",
    "    x_ticklabels = [x[0] for x in edges_nodes]\n",
    "    x_label = \"Number of edges\"\n",
    "        \n",
    "    fig, axs = plt.subplots(1, len(ilp_solvers), figsize=figsize, sharey=True)\n",
    "    fig.suptitle(net_type)\n",
    "    fig.subplots_adjust(bottom=0.2, left=0.1, right=0.9)\n",
    "    for i, ax in enumerate(axs):\n",
    "        ax.boxplot(data[i].tolist())\n",
    "        ax.set_xticklabels(x_ticklabels)\n",
    "        ax.set_xlabel(x_label)\n",
    "        ax.set_title(ilp_solvers[i])\n",
    "        \n",
    "    if \"ylabel\" in kwargs:\n",
    "        axs[0].set_ylabel(kwargs[\"ylabel\"])\n",
    "    if \"file\" in kwargs:\n",
    "        fig.savefig(kwargs[\"file\"])\n",
    "\n",
    "        \n",
    "time_settings = {\"ilp_solvers\": [\"cplex\", \"cbc\", \"lpSolve\"], \n",
    "                 \"ylabel\": \"Execution time [mins]\", \n",
    "                 \"scale\": lambda x : x/60,}\n",
    "mem_settings = {\"ilp_solvers\": [\"cplex\", \"cbc\", \"lpSolve\"], \n",
    "                \"ylabel\": \"Memory usage [GB]\", \n",
    "                \"scale\": lambda x : x/1024,}\n",
    "        \n",
    "t_args1 = {**time_settings, \n",
    "           \"edges_nodes\": [[x, 50] for x in np.arange(200, 1000, 100)], \n",
    "           \"file\": \"Figures/small_networks_time.svg\"}\n",
    "mem_args1 =  {**mem_settings,\n",
    "              \"edges_nodes\": [[x, 50] for x in np.arange(200, 1000, 100)], \n",
    "              \"file\": \"Figures/small_networks_memory.svg\"}\n",
    "\n",
    "t_args2 = {**time_settings, \n",
    "           \"edges_nodes\": [[x, 200] for x in np.arange(1000, 11000, 1000)], \n",
    "           \"ilp_solvers\": [\"cplex\", \"cbc\"],\n",
    "           \"file\": \"Figures/medium_networks_time.svg\"}\n",
    "mem_args2 =  {**mem_settings,\n",
    "              \"edges_nodes\": [[x, 200] for x in np.arange(1000, 11000, 1000)], \n",
    "              \"ilp_solvers\": [\"cplex\", \"cbc\"],\n",
    "              \"file\": \"Figures/medium_networks_memory.svg\"}"
   ]
  },
  {
   "cell_type": "code",
   "execution_count": null,
   "id": "manual-absorption",
   "metadata": {},
   "outputs": [],
   "source": [
    "num = np.arange(10, 1000, 10)\n",
    "fig, ax = plt.subplots()\n",
    "ax.plot(num, get_num_edges(num))\n",
    "ax.set_title(\"Complete graph\")\n",
    "ax.set_xlabel(\"Number of nodes\")\n",
    "ax.set_ylabel(\"Number of edges\")"
   ]
  },
  {
   "cell_type": "markdown",
   "id": "irish-accident",
   "metadata": {},
   "source": [
    "# Visualising networks"
   ]
  },
  {
   "cell_type": "markdown",
   "id": "equipped-leeds",
   "metadata": {},
   "source": [
    "Prior knowledge network (input for CARNIVAL):"
   ]
  },
  {
   "cell_type": "code",
   "execution_count": null,
   "id": "precious-electron",
   "metadata": {},
   "outputs": [],
   "source": [
    "fname = \"Output/Erdos/E600_N200_I3_M3_S1_P2_2/graph.dot\"\n",
    "\n",
    "g = nx.drawing.nx_agraph.read_dot(fname)\n",
    "pos = nx.spring_layout(g, iterations=20)\n",
    "\n",
    "fig, ax = plt.subplots()\n",
    "nx.draw(g, pos, ax, with_labels=True)"
   ]
  },
  {
   "cell_type": "code",
   "execution_count": null,
   "id": "manufactured-cruise",
   "metadata": {},
   "outputs": [],
   "source": [
    "fname = \"Output/Erdos/E300_N100_I3_M3_S1_P2_2/graph.dot\"\n",
    "\n",
    "g = Network(500, 1000, notebook=True)\n",
    "g.from_DOT(fname)\n",
    "g.show(fname.replace(\".dot\", \".html\"))"
   ]
  },
  {
   "cell_type": "code",
   "execution_count": null,
   "id": "interracial-diary",
   "metadata": {},
   "outputs": [],
   "source": [
    "solvers = (\"cbc\", \"cplex\", \"gurobi\")\n",
    "\n",
    "logs = {x: fname.replace(\"graph.dot\", f\"{x}/log.txt\") for x in solvers}\n",
    "obj_vals = ObjectiveValue(logs).get_data()\n",
    "\n",
    "benchmarks = {x: pd.read_csv(fname.replace(\"graph.dot\", f\"{x}/benchmark.tsv\"), \"\\t\") \n",
    "              for x in solvers}\n",
    "\n",
    "fig, axs = plt.subplots(1, 3, figsize=(12, 5))\n",
    "fig.subplots_adjust(left=0.1, right=0.9, wspace=0.4)\n",
    "axs[0].plot(solvers, [benchmarks[x][\"s\"].mean()/60 for x in solvers], \"o\")\n",
    "axs[0].set_ylabel(\"Execution time [min]\")\n",
    "axs[1].plot(solvers, [benchmarks[x][\"max_rss\"].mean() for x in solvers], \"o\")\n",
    "axs[1].set_ylabel(\"Memory usage [MB]\")\n",
    "axs[2].plot(solvers, [obj_vals[x] for x in solvers], \"o\")\n",
    "axs[2].set_ylabel(\"Objective function value\")"
   ]
  },
  {
   "cell_type": "markdown",
   "id": "focused-banner",
   "metadata": {},
   "source": [
    "Solution given by CARNIVAL:"
   ]
  },
  {
   "cell_type": "code",
   "execution_count": null,
   "id": "soviet-burlington",
   "metadata": {},
   "outputs": [],
   "source": [
    "solver = \"cbc\"\n",
    "fname = fname.replace(\"graph.dot\", f\"{solver}/network_solution.dot\")\n",
    "g = Network(500, 1000, notebook=True)\n",
    "g.from_DOT(fname)\n",
    "g.show(fname.replace(\".dot\", \".html\"))"
   ]
  },
  {
   "cell_type": "code",
   "execution_count": null,
   "id": "inner-silence",
   "metadata": {},
   "outputs": [],
   "source": [
    "%%R\n",
    "print(readRDS(\"Output/Erdos/E100_N20_I3_M3_S1_P2_2/cplex/result.Rds\")$weightedSIF)\n",
    "print(readRDS(\"Output/Erdos/E100_N20_I3_M3_S1_P2_2/cbc/result.Rds\")$weightedSIF)\n",
    "print(readRDS(\"Output/Erdos/E100_N20_I3_M3_S1_P2_2/lpSolve/result.Rds\")$weightedSIF)"
   ]
  }
 ],
 "metadata": {
  "language_info": {
   "name": "python",
   "pygments_lexer": "ipython3"
  }
 },
 "nbformat": 4,
 "nbformat_minor": 5
}
