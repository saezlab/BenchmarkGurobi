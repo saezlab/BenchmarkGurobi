{
 "cells": [
  {
   "cell_type": "markdown",
   "id": "forbidden-hunger",
   "metadata": {},
   "source": [
    "# Benchmark Gurobi\n",
    "\n",
    "This repository is for testing and benchmarking the gurobi implementation within CARNIVAL.\n",
    "\n",
    "# Setup\n",
    "\n",
    "In this section, we go though the setup necessary to run this notebook. \n",
    "\n",
    "## Conda environment\n",
    "\n",
    "If anaconda is available on the cluster, then load that through module:\n",
    "```\n",
    "module load Anaconda3\n",
    "```\n",
    "Or follow the instructions on [Miniconda website](https://docs.conda.io/en/latest/miniconda.html).\n",
    "\n",
    "Then create a conda environment based on the `conda_env.yml` file in this repository using:\n",
    "```\n",
    "conda env create -p ./conda_env --file conda_env.yml\n",
    "```\n",
    "\n",
    "## Snakemake\n",
    "\n",
    "To generate this notebook run snakemake:\n",
    "```\n",
    "snakemake -j10 --cluster \"sbatch -c1 --mem 5G -t 2:00:00\"\n",
    "```"
   ]
  },
  {
   "cell_type": "code",
   "execution_count": null,
   "id": "annoying-cross",
   "metadata": {},
   "outputs": [],
   "source": [
    "# %matplotlib notebook\n",
    "%matplotlib inline\n",
    "%load_ext rpy2.ipython\n",
    "import matplotlib.pyplot as plt\n",
    "import networkx as nx\n",
    "import numpy as np\n",
    "import pandas as pd\n",
    "from pyvis.network import Network\n",
    "import rpy2.robjects as robjects\n",
    "from rpy2.robjects import pandas2ri\n",
    "pandas2ri.activate()\n",
    "readRDS = robjects.r['readRDS']\n",
    "\n",
    "\n",
    "class SolverLogs(object):\n",
    "    def __init__(self, filenames):\n",
    "        self.__data__ = {x: getattr(self, f\"__get_{x}__\")(y) for x, y in filenames.items()}\n",
    "\n",
    "    def __getitem__(self, key):\n",
    "        return self.__data__[key]\n",
    "    \n",
    "    def get_data(self):\n",
    "        return self.__data__\n",
    "        \n",
    "    def __get_cbc__(self, path_to_log):\n",
    "        obj_val = 0\n",
    "        with open(path_to_log) as fh:\n",
    "            for line in fh:\n",
    "                if \"Objective value:\" in line:\n",
    "                    obj_val = float(line.split(\"Objective value:\")[-1].strip(\"\\n \"))\n",
    "        return {\"objective_value\": obj_val, \"solution_count\": 1}\n",
    "    \n",
    "    def __get_cplex__(self, path_to_log):\n",
    "        obj_val = 0\n",
    "        sol_count = 0\n",
    "        with open(path_to_log) as fh:\n",
    "            for line in fh:\n",
    "                if \"Objective = \" in line:\n",
    "                    obj_val = float(line.split(\"Objective = \")[-1].strip(\"\\n \"))\n",
    "                if \"Solution pool:\" in line:\n",
    "                    sol_count = int(line.split(\" \")[2])\n",
    "        return {\"objective_value\": obj_val, \"solution_count\": sol_count}\n",
    "\n",
    "    def __get_gurobi__(self, path_to_log):\n",
    "        obj_val = 0\n",
    "        sol_count = 0\n",
    "        with open(path_to_log) as fh:\n",
    "            for line in fh:\n",
    "                if \"Best objective\" in line:\n",
    "                    obj_val = float(line.split(\",\")[0].split(\"Best objective\")[-1].strip(\"\\n \"))\n",
    "                if \"Solution count\" in line:\n",
    "                    sol_count = int(line.split(\":\")[0].split(\" \")[-1])\n",
    "        return {\"objective_value\": obj_val, \"solution_count\": sol_count}"
   ]
  },
  {
   "cell_type": "markdown",
   "id": "irish-accident",
   "metadata": {},
   "source": [
    "# Example "
   ]
  },
  {
   "cell_type": "code",
   "execution_count": null,
   "id": "manufactured-cruise",
   "metadata": {},
   "outputs": [],
   "source": [
    "dirname = \"Output/Erdos/E300_N100_I10_M10_S1_P2_2/\"\n",
    "g = Network(500, 1000, notebook=True)\n",
    "g.from_DOT(f\"{dirname}graph.dot\")\n",
    "g.show(f\"{dirname}graph.html\")"
   ]
  },
  {
   "cell_type": "code",
   "execution_count": null,
   "id": "interracial-diary",
   "metadata": {},
   "outputs": [],
   "source": [
    "solvers = (\"cbc\", \"cplex\", \"gurobi\")\n",
    "\n",
    "logs = SolverLogs({x: f\"{dirname}{x}/log.txt\" for x in solvers}).get_data()\n",
    "benchmarks = {x: pd.read_csv(f\"{dirname}{x}/benchmark.tsv\", \"\\t\") for x in solvers}\n",
    "\n",
    "fig, axs = plt.subplots(1, 4, figsize=(10, 4))\n",
    "fig.subplots_adjust(left=0.1, right=0.9, wspace=0.4)\n",
    "axs[0].bar(solvers, [benchmarks[x][\"s\"].mean()/60 for x in solvers])\n",
    "axs[0].set_ylabel(\"Execution time [min]\")\n",
    "axs[0].set_title(\"Execution time\")\n",
    "axs[1].bar(solvers, [benchmarks[x][\"max_rss\"].mean() for x in solvers])\n",
    "axs[1].set_ylabel(\"Memory usage [MB]\")\n",
    "axs[1].set_title(\"Memory usage\")\n",
    "axs[2].bar(solvers, [logs[x][\"objective_value\"] for x in solvers])\n",
    "axs[2].set_ylabel(\"Objective function value\")\n",
    "axs[2].set_title(\"Objective value\")\n",
    "axs[3].bar(solvers, [logs[x][\"solution_count\"] for x in solvers])\n",
    "axs[3].set_ylabel(\"Number of solutions\")\n",
    "axs[3].set_title(\"Number of solutions\")"
   ]
  },
  {
   "cell_type": "markdown",
   "id": "focused-banner",
   "metadata": {},
   "source": [
    "Solution given by CARNIVAL:"
   ]
  },
  {
   "cell_type": "code",
   "execution_count": null,
   "id": "soviet-burlington",
   "metadata": {},
   "outputs": [],
   "source": [
    "solver = \"cplex\"\n",
    "g = Network(500, 1000, notebook=True)\n",
    "g.from_DOT(f\"{dirname}{solver}/network_solution.dot\")\n",
    "g.show(f\"{dirname}{solver}/network_solution.html\")"
   ]
  },
  {
   "cell_type": "markdown",
   "id": "trying-monaco",
   "metadata": {},
   "source": [
    "# Results"
   ]
  },
  {
   "cell_type": "code",
   "execution_count": null,
   "id": "center-bernard",
   "metadata": {},
   "outputs": [],
   "source": [
    "def get_results(edges, nodes, solver, network_type, num_in=10, num_meas=10):\n",
    "    dirname = f\"Output/{network_type}/E{edges}_N{nodes}_I{num_in}_M{num_meas}_S1_P2_2/\"\n",
    "\n",
    "    logs = SolverLogs({solver: f\"{dirname}{solver}/log.txt\"}).get_data()\n",
    "    benchmarks = {solver: pd.read_csv(f\"{dirname}{solver}/benchmark.tsv\", \"\\t\")}\n",
    "    res = [benchmarks[solver][\"s\"].mean()/60, \n",
    "           benchmarks[solver][\"max_rss\"].mean(),\n",
    "           logs[solver][\"objective_value\"], \n",
    "           logs[solver][\"solution_count\"]]\n",
    "    return res"
   ]
  },
  {
   "cell_type": "code",
   "execution_count": null,
   "id": "posted-copyright",
   "metadata": {},
   "outputs": [],
   "source": [
    "col_names = [\"Execution time\", \"Memory\", \"Obj. value\", \"Number of solutions\"]\n",
    "num_nodes = np.array([50, 100, 200, 300])\n",
    "df_gurobi = pd.DataFrame([get_results(3*x, x, \"gurobi\", \"Erdos\") for x in num_nodes], columns=col_names)\n",
    "df_cplex = pd.DataFrame([get_results(3*x, x, \"cplex\", \"Erdos\") for x in num_nodes], columns=col_names)\n",
    "\n",
    "fig, axs = plt.subplots(1, 4, figsize=(10, 4))\n",
    "fig.subplots_adjust(wspace=0.4, bottom=0.2)\n",
    "for i, x in enumerate(col_names):\n",
    "    axs[i].plot(num_nodes, df_gurobi[x])\n",
    "    axs[i].plot(num_nodes, df_cplex[x], \"--\")\n",
    "    axs[i].set_title(x)\n",
    "fig.legend(axs[-1].lines, [\"gurobi\", \"cplex\"], loc=\"lower center\", ncol=2)"
   ]
  }
 ],
 "metadata": {
  "language_info": {
   "name": "python",
   "pygments_lexer": "ipython3"
  }
 },
 "nbformat": 4,
 "nbformat_minor": 5
}
