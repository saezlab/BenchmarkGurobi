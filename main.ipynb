{
 "cells": [
  {
   "cell_type": "code",
   "execution_count": null,
   "id": "annoying-cross",
   "metadata": {},
   "outputs": [],
   "source": [
    "%matplotlib notebook\n",
    "%load_ext rpy2.ipython\n",
    "import matplotlib.pyplot as plt\n",
    "import numpy as np\n",
    "import pandas as pd\n",
    "\n",
    "\n",
    "nodes = np.arange(10, 101, 10)\n",
    "solvers = [\"cplex\", \"cbc\", \"lpSolve\"]\n",
    "\n",
    "def plot_benchmarks(value, num_nodes, ilp_solvers, **kwargs):\n",
    "    get_benchmark = lambda x, y : pd.read_csv(f\"Output/N{x}_I3_M3_S1_P0.2/{y}/benchmark.tsv\", sep=\"\\t\")\n",
    "    data = [[get_benchmark(x, y)[value].values for x in num_nodes] for y in ilp_solvers]\n",
    "\n",
    "    fig, axs = plt.subplots(1, len(solvers), figsize=(12, 5), sharey=True)\n",
    "    for i, ax in enumerate(axs):\n",
    "        ax.boxplot(data[i])\n",
    "        ax.set_xticklabels(num_nodes)\n",
    "        ax.set_xlabel(\"Number of nodes\")\n",
    "        ax.set_title(ilp_solvers[i])\n",
    "        \n",
    "    if \"ylabel\" in kwargs:\n",
    "        axs[0].set_ylabel(kwargs[\"ylabel\"])\n"
   ]
  },
  {
   "cell_type": "code",
   "execution_count": null,
   "id": "arctic-ideal",
   "metadata": {},
   "outputs": [],
   "source": [
    "plot_benchmarks(\"s\", nodes, solvers, ylabel=\"Execution time [s]\")"
   ]
  },
  {
   "cell_type": "code",
   "execution_count": null,
   "id": "electronic-magic",
   "metadata": {},
   "outputs": [],
   "source": [
    "plot_benchmarks(\"max_vms\", nodes, solvers, ylabel=\"Memory [B]\")"
   ]
  },
  {
   "cell_type": "code",
   "execution_count": null,
   "id": "inner-silence",
   "metadata": {},
   "outputs": [],
   "source": [
    "%%R\n",
    "print(readRDS(\"Output/N100_I3_M3_S1_P0.2/cplex/result.Rds\")$weightedSIF)\n",
    "print(readRDS(\"Output/N100_I3_M3_S1_P0.2/cbc/result.Rds\")$weightedSIF)\n",
    "print(readRDS(\"Output/N100_I3_M3_S1_P0.2/lpSolve/result.Rds\")$weightedSIF)"
   ]
  }
 ],
 "metadata": {
  "language_info": {
   "name": "python",
   "pygments_lexer": "ipython3"
  }
 },
 "nbformat": 4,
 "nbformat_minor": 5
}
