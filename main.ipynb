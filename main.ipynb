{
 "cells": [
  {
   "cell_type": "code",
   "execution_count": null,
   "id": "annoying-cross",
   "metadata": {},
   "outputs": [],
   "source": [
    "%matplotlib notebook\n",
    "%load_ext rpy2.ipython\n",
    "import matplotlib.pyplot as plt\n",
    "import numpy as np\n",
    "import pandas as pd\n",
    "import rpy2.robjects as robjects\n",
    "from rpy2.robjects import pandas2ri\n",
    "pandas2ri.activate()\n",
    "readRDS = robjects.r['readRDS']\n",
    "\n",
    "\n",
    "def plot_benchmarks(value, num_nodes, ilp_solvers, **kwargs):\n",
    "    ni = 3 if \"num_inputs\" not in kwargs else kwargs[\"num_inputs\"]\n",
    "    nm = 3 if \"num_meas\" not in kwargs else kwargs[\"num_meas\"]\n",
    "    \n",
    "    get_benchmark = lambda x, y : pd.read_csv(f\"Output/N{x}_I{ni}_M{nm}_S1_P0.2/{y}/benchmark.tsv\", sep=\"\\t\")\n",
    "    get_inter = lambda x : len(readRDS(f'Output/N{x}_I{ni}_M{nm}_S1_P0.2/carnival_input.Rds')[2])\n",
    "    \n",
    "    data = np.array([[get_benchmark(x, y)[value].values for x in num_nodes] for y in ilp_solvers])\n",
    "    \n",
    "    if \"scale\" in kwargs: data = kwargs[\"scale\"](data)\n",
    "    x_ticklabels = num_nodes\n",
    "    x_label = \"Number of nodes\"\n",
    "    if \"interactions\" in kwargs:\n",
    "        x_ticklabels = [get_inter(x) for x in num_nodes]\n",
    "        x_label = \"Number of interactions\"\n",
    "        \n",
    "    fig, axs = plt.subplots(1, len(ilp_solvers), figsize=(12, 5), sharey=True)\n",
    "    for i, ax in enumerate(axs):\n",
    "        ax.boxplot(data[i].tolist())\n",
    "        ax.set_xticklabels(x_ticklabels)\n",
    "        ax.set_xlabel(x_label)\n",
    "        ax.set_title(ilp_solvers[i])\n",
    "        \n",
    "    if \"ylabel\" in kwargs:\n",
    "        axs[0].set_ylabel(kwargs[\"ylabel\"])\n",
    "\n",
    "        \n",
    "t_args1 = {\"num_nodes\": np.arange(10, 101, 10), \n",
    "          \"ilp_solvers\": [\"cplex\", \"cbc\", \"lpSolve\"], \n",
    "          \"ylabel\": \"Execution time [mins]\", \n",
    "          \"scale\": lambda x : x/60}\n",
    "mem_args1 =  {\"num_nodes\": np.arange(10, 101, 10), \n",
    "              \"ilp_solvers\": [\"cplex\", \"cbc\", \"lpSolve\"], \n",
    "              \"ylabel\": \"Memory [GB]\", \n",
    "              \"scale\": lambda x : x/1024}\n",
    "\n",
    "t_args2 = {\"num_nodes\": np.arange(100, 350, 50), \n",
    "          \"ilp_solvers\": [\"cplex\", \"cbc\"], \n",
    "          \"ylabel\": \"Execution time [mins]\", \n",
    "          \"scale\": lambda x : x/60}\n",
    "mem_args2 =  {\"num_nodes\": np.arange(100, 350, 50), \n",
    "              \"ilp_solvers\": [\"cplex\", \"cbc\"], \n",
    "              \"ylabel\": \"Memory [GB]\", \n",
    "              \"scale\": lambda x : x/1024}"
   ]
  },
  {
   "cell_type": "markdown",
   "id": "qualified-porcelain",
   "metadata": {},
   "source": [
    "# Smaller networks"
   ]
  },
  {
   "cell_type": "code",
   "execution_count": null,
   "id": "arctic-ideal",
   "metadata": {},
   "outputs": [],
   "source": [
    "plot_benchmarks(\"s\", **t_args1)"
   ]
  },
  {
   "cell_type": "code",
   "execution_count": null,
   "id": "electronic-magic",
   "metadata": {},
   "outputs": [],
   "source": [
    "plot_benchmarks(\"max_rss\", nodes, solvers, **mem_args)"
   ]
  },
  {
   "cell_type": "markdown",
   "id": "conscious-reynolds",
   "metadata": {},
   "source": [
    "# Medium networks"
   ]
  },
  {
   "cell_type": "code",
   "execution_count": null,
   "id": "expensive-disposition",
   "metadata": {},
   "outputs": [],
   "source": [
    "plot_benchmarks(\"s\", np.arange(100, 350, 50), [\"cplex\", \"cbc\"], **t_args)"
   ]
  },
  {
   "cell_type": "code",
   "execution_count": null,
   "id": "similar-allen",
   "metadata": {},
   "outputs": [],
   "source": [
    "plot_benchmarks(\"s\", np.arange(100, 350, 50), [\"cplex\", \"cbc\"], **t_args, interactions=True)"
   ]
  },
  {
   "cell_type": "code",
   "execution_count": null,
   "id": "distributed-casting",
   "metadata": {},
   "outputs": [],
   "source": [
    "plot_benchmarks(\"max_rss\", np.arange(100, 350, 50), [\"cplex\", \"cbc\"], **mem_args)"
   ]
  },
  {
   "cell_type": "code",
   "execution_count": null,
   "id": "limiting-permission",
   "metadata": {},
   "outputs": [],
   "source": [
    "plot_benchmarks(\"max_rss\", np.arange(100, 350, 50), [\"cplex\", \"cbc\"], **mem_args, interactions=True)"
   ]
  },
  {
   "cell_type": "code",
   "execution_count": null,
   "id": "inner-silence",
   "metadata": {},
   "outputs": [],
   "source": [
    "%%R\n",
    "print(readRDS(\"Output/N100_I3_M3_S1_P0.2/cplex/result.Rds\")$weightedSIF)\n",
    "print(readRDS(\"Output/N100_I3_M3_S1_P0.2/cbc/result.Rds\")$weightedSIF)\n",
    "print(readRDS(\"Output/N100_I3_M3_S1_P0.2/lpSolve/result.Rds\")$weightedSIF)"
   ]
  }
 ],
 "metadata": {
  "language_info": {
   "name": "python",
   "pygments_lexer": "ipython3"
  }
 },
 "nbformat": 4,
 "nbformat_minor": 5
}
